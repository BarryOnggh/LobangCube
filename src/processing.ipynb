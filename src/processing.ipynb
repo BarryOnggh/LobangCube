{
 "cells": [
  {
   "cell_type": "code",
   "execution_count": 6,
   "metadata": {},
   "outputs": [],
   "source": [
    "with\\\n",
    "    open(\"../data/2014_2022_Net_Bal_CPF.csv\", \"r\") as balances,\\\n",
    "    open(\"../data/2014_2022_Num_Members_CPF.csv\", \"r\") as members,\\\n",
    "    open(\"../data/2014_2022_Avg_Net_Bal_CPF.csv\", \"w\") as output:\n",
    "    line_count = 0\n",
    "    for balance_line, member_line in zip(balances, members):\n",
    "        # Skip the headers\n",
    "        if line_count == 0:\n",
    "            line_count += 1\n",
    "            continue\n",
    "\n",
    "        balance_line = [i.strip() for i in balance_line.split(',')]\n",
    "        member_line = [i.strip() for i in member_line.split(',')]\n",
    "        year, age_grp, gender, net_bal_amt = balance_line\n",
    "        if age_grp == \"Unspecified\" or gender == \"Unspecified\":\n",
    "            continue\n",
    "        num_members = member_line[-1]\n",
    "        if num_members == 0:\n",
    "            continue\n",
    "\n",
    "        avg_net_bal_amt = float(net_bal_amt) / int(num_members)\n",
    "        output.write(f\"{year},{age_grp},{gender},{avg_net_bal_amt}\\n\")\n",
    "    "
   ]
  }
 ],
 "metadata": {
  "kernelspec": {
   "display_name": ".venv",
   "language": "python",
   "name": "python3"
  },
  "language_info": {
   "codemirror_mode": {
    "name": "ipython",
    "version": 3
   },
   "file_extension": ".py",
   "mimetype": "text/x-python",
   "name": "python",
   "nbconvert_exporter": "python",
   "pygments_lexer": "ipython3",
   "version": "3.12.3"
  }
 },
 "nbformat": 4,
 "nbformat_minor": 2
}
