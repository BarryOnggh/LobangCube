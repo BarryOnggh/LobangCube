{
 "cells": [
  {
   "cell_type": "code",
   "execution_count": 7,
   "metadata": {},
   "outputs": [],
   "source": [
    "import json\n",
    "from pathlib import Path\n",
    "\n",
    "data_dir = Path('../data')\n",
    "\n",
    "all_year_age_bal = {}\n",
    "with open(data_dir / \"2014_2018_Net_Bal_CPF.csv\", \"r\") as f:\n",
    "    for line in f:\n",
    "        line = [i.strip() for i in line.split(',')]\n",
    "        year, age_grp, gender, net_bal_amt = line\n",
    "        if year not in all_year_age_bal:\n",
    "            all_year_age_bal[year] = {}\n",
    "        if age_grp not in all_year_age_bal[year]:\n",
    "            all_year_age_bal[year][age_grp] = {}\n",
    "        all_year_age_bal[year][age_grp][gender] = net_bal_amt\n",
    "\n",
    "with open(data_dir / \"2019_2022_Net_Bal_CPF.csv\", \"r\") as f:\n",
    "    for line in f:\n",
    "        line = [i.strip() for i in line.split(',')]\n",
    "        year, age_grp, gender, net_bal_amt = line\n",
    "        if year not in all_year_age_bal:\n",
    "            all_year_age_bal[year] = {}\n",
    "        if age_grp not in all_year_age_bal[year]:\n",
    "            all_year_age_bal[year][age_grp] = {}\n",
    "        all_year_age_bal[year][age_grp][gender] = net_bal_amt\n",
    "\n",
    "with open(data_dir / \"2014_2022_Net_Bal_CPF.json\", \"w\") as f:\n",
    "    json.dump(all_year_age_bal, f)"
   ]
  },
  {
   "cell_type": "code",
   "execution_count": 8,
   "metadata": {},
   "outputs": [],
   "source": [
    "import json\n",
    "from pathlib import Path\n",
    "\n",
    "data_dir = Path('../data')\n",
    "\n",
    "all_year_age_members = {}\n",
    "with open(data_dir / \"2014_2018_Num_Members_CPF.csv\", \"r\") as f:\n",
    "    for line in f:\n",
    "        line = [i.strip() for i in line.split(',')]\n",
    "        year, age_grp, gender, net_bal_amt = line\n",
    "        if year not in all_year_age_members:\n",
    "            all_year_age_members[year] = {}\n",
    "        if age_grp not in all_year_age_members[year]:\n",
    "            all_year_age_members[year][age_grp] = {}\n",
    "        all_year_age_members[year][age_grp][gender] = net_bal_amt\n",
    "\n",
    "with open(data_dir / \"2019_2022_Num_Members_CPF.csv\", \"r\") as f:\n",
    "    for line in f:\n",
    "        line = [i.strip() for i in line.split(',')]\n",
    "        year, age_grp, gender, net_bal_amt = line\n",
    "        if year not in all_year_age_members:\n",
    "            all_year_age_members[year] = {}\n",
    "        if age_grp not in all_year_age_members[year]:\n",
    "            all_year_age_members[year][age_grp] = {}\n",
    "        all_year_age_members[year][age_grp][gender] = net_bal_amt\n",
    "\n",
    "with open(data_dir / \"2014_2022_Num_Members_CPF.json\", \"w\") as f:\n",
    "    json.dump(all_year_age_members, f)"
   ]
  }
 ],
 "metadata": {
  "kernelspec": {
   "display_name": ".venv",
   "language": "python",
   "name": "python3"
  },
  "language_info": {
   "codemirror_mode": {
    "name": "ipython",
    "version": 3
   },
   "file_extension": ".py",
   "mimetype": "text/x-python",
   "name": "python",
   "nbconvert_exporter": "python",
   "pygments_lexer": "ipython3",
   "version": "3.12.3"
  }
 },
 "nbformat": 4,
 "nbformat_minor": 2
}
