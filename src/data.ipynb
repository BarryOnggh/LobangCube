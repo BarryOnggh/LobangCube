{
 "cells": [
  {
   "cell_type": "markdown",
   "metadata": {},
   "source": [
    "#### Getting Data from data.gov.sg"
   ]
  },
  {
   "cell_type": "code",
   "execution_count": 4,
   "metadata": {},
   "outputs": [],
   "source": [
    "import requests\n",
    "import json\n",
    "\n",
    "url = r\"https://beta.data.gov.sg/collections/46/datasets/d_782612851622c1643f94e3789d333e99/view\"\n",
    "\n",
    "def get_api_url(url:str) -> str:\n",
    "    url = url.split(\"/\")\n",
    "    index_dataset_id = url.index(\"datasets\") + 1\n",
    "    dataset_id = url[index_dataset_id]\n",
    "    base_api_url = r\"https://data.gov.sg/api/action/datastore_search\"\n",
    "    api_url = base_api_url + \"?resource_id=\" + dataset_id\n",
    "    return api_url\n",
    "\n",
    "api_url = get_api_url(url)\n",
    "response = requests.get(api_url)\n",
    "data = response.json()\n",
    "with open(\".././data/2014_2018_Num_Members_CPF.json\", \"w\") as f:\n",
    "    json.dump(data, f)"
   ]
  },
  {
   "cell_type": "markdown",
   "metadata": {},
   "source": [
    "#### Getting Data from SingPass API (sandbox api)"
   ]
  },
  {
   "cell_type": "code",
   "execution_count": 16,
   "metadata": {},
   "outputs": [],
   "source": [
    "import requests\n",
    "import json\n",
    "\n",
    "url = r\"https://sandbox.api.myinfo.gov.sg/com/v4/person-sample/\"\n",
    "response = requests.get(url)\n",
    "data = response.json()\n",
    "with open(\".././data/sandbox_data.json\", \"w\") as f:\n",
    "    json.dump(data, f)"
   ]
  },
  {
   "cell_type": "code",
   "execution_count": 17,
   "metadata": {},
   "outputs": [],
   "source": [
    "cpf_keys = (\n",
    "    'cpfdependantprotectionscheme',\n",
    "    'cpfmedishieldlife',\n",
    "    'cpfemployers',\n",
    "    'cpfbalances',\n",
    "    'cpfhousingwithdrawal',\n",
    "    'cpfinvestmentscheme',\n",
    "    'cpfrstuselftopupamount',\n",
    "    'cpfrstucurrentyeartaxrelief',\n",
    "    'cpfmonthlypayouts',\n",
    "    'cpfcontributions',\n",
    "    'cpflife',\n",
    "    'cpfhomeprotectionscheme'\n",
    ")"
   ]
  },
  {
   "cell_type": "code",
   "execution_count": 18,
   "metadata": {},
   "outputs": [],
   "source": [
    "cpf_data = {}\n",
    "\n",
    "for uinfin, uinfin_val in data.items():\n",
    "    cpf_data[uinfin] = {}\n",
    "    for key, value in uinfin_val.items():\n",
    "        if key in cpf_keys:\n",
    "            cpf_data[uinfin][key] = value\n",
    "\n",
    "with open(\"./data/cpf_data.json\", \"w\") as f:\n",
    "    json.dump(cpf_data, f)"
   ]
  },
  {
   "cell_type": "code",
   "execution_count": 22,
   "metadata": {},
   "outputs": [
    {
     "name": "stdout",
     "output_type": "stream",
     "text": [
      "50\n"
     ]
    }
   ],
   "source": [
    "cpf_balances = {}\n",
    "\n",
    "for uinfin, uinfin_val in cpf_data.items():\n",
    "    for key, value in uinfin_val.items():\n",
    "        if key == \"cpfbalances\":\n",
    "            for account, account_info in value.items():\n",
    "                if \"unavailable\" not in account_info:\n",
    "                    cpf_balances[uinfin] = {key: value}\n",
    "\n",
    "print(len(cpf_balances))\n",
    "\n",
    "with open(\".././data/non_null_cpf_balances.json\", \"w\") as f:\n",
    "    json.dump(cpf_balances, f)"
   ]
  }
 ],
 "metadata": {
  "kernelspec": {
   "display_name": ".venv",
   "language": "python",
   "name": "python3"
  },
  "language_info": {
   "codemirror_mode": {
    "name": "ipython",
    "version": 3
   },
   "file_extension": ".py",
   "mimetype": "text/x-python",
   "name": "python",
   "nbconvert_exporter": "python",
   "pygments_lexer": "ipython3",
   "version": "3.12.3"
  }
 },
 "nbformat": 4,
 "nbformat_minor": 2
}
