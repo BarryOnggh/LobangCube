{
 "cells": [
  {
   "cell_type": "code",
   "execution_count": 25,
   "metadata": {},
   "outputs": [],
   "source": [
    "import random\n",
    "import pandas as pd\n",
    "\n",
    "# Define possible housing types\n",
    "housing_types = [\"1&2-Room Flat\", \"3-Room Flat\", \"4-Room Flat\", \"5-Room\", \"Executive Flat\", \"Condominium\", \"Apartment\", \"Landed Property\"]\n",
    "\n",
    "# Initialize list to store generated data\n",
    "data = []\n",
    "\n",
    "for _ in range(5000):\n",
    "    # Generate age (at least 25 years old)\n",
    "    age = random.randint(25, 70)\n",
    "    \n",
    "    # Select a random housing type\n",
    "    housingtype = random.choice(housing_types)\n",
    "    \n",
    "    # Generate yearly income (in thousands)\n",
    "    yearly_income = random.randint(24000, 200000) \n",
    "    \n",
    "    # Generate CPF balance\n",
    "    cpf_balance = random.randint(20, 50) * 10000 if (age > 40) else random.randint(1, 20) * 10000\n",
    "    \n",
    "    # Generate yearly expenditure (less than yearly income)\n",
    "    yearly_expenditure = random.randint(10, yearly_income // 1000) * 1000\n",
    "    \n",
    "    # Calculate savings\n",
    "    savings = yearly_income - yearly_expenditure + random.randint(10000,500000) if age > 40 else random.randint(500, 10000)\n",
    "    \n",
    "    # Calculate quality of life (based on the given rule)\n",
    "    quality_of_life = random.randint(1, 4) if (yearly_income < 50000 and yearly_expenditure > 0.5 * yearly_income) else random.randint(5, 10)\n",
    "    \n",
    "    # Calculate disaster preparedness (6 months of income for a rainy day)\n",
    "    disaster_preparedness = random.randint(6, 10) if savings >= 0.5 * yearly_income else random.randint(1, 5)\n",
    "    \n",
    "    # Calculate retirement readiness (assuming retirement age of 65)\n",
    "    years_until_retirement = 65 - age\n",
    "    required_savings_for_retirement = (random.randint(20, 50) * 1000) * (83 - 65)  # Assuming life expectancy of 83 years\n",
    "    retirement_readiness = random.randint(6, 10) if savings >= required_savings_for_retirement else random.randint(1, 5)\n",
    "    \n",
    "    # Append generated data to the list\n",
    "    data.append([age, housingtype, yearly_income, cpf_balance, yearly_expenditure, savings, quality_of_life, disaster_preparedness, retirement_readiness])\n",
    "\n",
    "# Create a DataFrame from the generated data\n",
    "columns = ['age', 'housingtype', 'yearly income', 'cpf balance', 'yearly expenditure', 'savings', 'quality of life', 'disaster preparedness', 'retirement readiness']\n",
    "df = pd.DataFrame(data, columns=columns)\n",
    "\n",
    "# save the mockdata to a csv\n",
    "df.to_csv(\"../data/mockdata.csv\", index=False)"
   ]
  }
 ],
 "metadata": {
  "kernelspec": {
   "display_name": ".venv",
   "language": "python",
   "name": "python3"
  },
  "language_info": {
   "codemirror_mode": {
    "name": "ipython",
    "version": 3
   },
   "file_extension": ".py",
   "mimetype": "text/x-python",
   "name": "python",
   "nbconvert_exporter": "python",
   "pygments_lexer": "ipython3",
   "version": "3.12.3"
  }
 },
 "nbformat": 4,
 "nbformat_minor": 2
}
